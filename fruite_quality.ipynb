{
 "cells": [
  {
   "cell_type": "code",
   "execution_count": 1,
   "metadata": {
    "_cell_guid": "b1076dfc-b9ad-4769-8c92-a6c4dae69d19",
    "_uuid": "8f2839f25d086af736a60e9eeb907d3b93b6e0e5",
    "execution": {
     "iopub.execute_input": "2020-09-29T17:10:17.860416Z",
     "iopub.status.busy": "2020-09-29T17:10:17.850028Z",
     "iopub.status.idle": "2020-09-29T17:11:25.801525Z",
     "shell.execute_reply": "2020-09-29T17:11:25.800871Z"
    },
    "papermill": {
     "duration": 67.977252,
     "end_time": "2020-09-29T17:11:25.801661",
     "exception": false,
     "start_time": "2020-09-29T17:10:17.824409",
     "status": "completed"
    },
    "tags": []
   },
   "outputs": [
    {
     "ename": "ModuleNotFoundError",
     "evalue": "No module named 'tqdm'",
     "output_type": "error",
     "traceback": [
      "\u001b[1;31m---------------------------------------------------------------------------\u001b[0m",
      "\u001b[1;31mModuleNotFoundError\u001b[0m                       Traceback (most recent call last)",
      "\u001b[1;32m~\\AppData\\Local\\Temp\\ipykernel_9664\\2587891223.py\u001b[0m in \u001b[0;36m<module>\u001b[1;34m\u001b[0m\n\u001b[0;32m      6\u001b[0m \u001b[1;32mimport\u001b[0m \u001b[0mos\u001b[0m\u001b[1;33m\u001b[0m\u001b[1;33m\u001b[0m\u001b[0m\n\u001b[0;32m      7\u001b[0m \u001b[1;32mimport\u001b[0m \u001b[0mglob\u001b[0m\u001b[1;33m\u001b[0m\u001b[1;33m\u001b[0m\u001b[0m\n\u001b[1;32m----> 8\u001b[1;33m \u001b[1;32mimport\u001b[0m \u001b[0mtqdm\u001b[0m\u001b[1;33m\u001b[0m\u001b[1;33m\u001b[0m\u001b[0m\n\u001b[0m\u001b[0;32m      9\u001b[0m \u001b[1;33m\u001b[0m\u001b[0m\n\u001b[0;32m     10\u001b[0m \u001b[1;32mfrom\u001b[0m \u001b[0mtqdm\u001b[0m \u001b[1;32mimport\u001b[0m \u001b[0mtqdm\u001b[0m\u001b[1;33m\u001b[0m\u001b[1;33m\u001b[0m\u001b[0m\n",
      "\u001b[1;31mModuleNotFoundError\u001b[0m: No module named 'tqdm'"
     ]
    }
   ],
   "source": [
    "import numpy as np\n",
    "import pandas as pd\n",
    "import matplotlib.pyplot as plt\n",
    "#import skimage.io\n",
    "import tensorflow \n",
    "import os\n",
    "import glob\n",
    "import tqdm\n",
    "\n",
    "from tqdm import tqdm \n",
    "\n",
    "from skimage.io import imread, imshow\n",
    "from skimage.transform import resize\n",
    "import tensorflow as tf\n",
    "from tensorflow.keras.preprocessing.image import ImageDataGenerator\n",
    "from tensorflow.keras.models import Sequential\n",
    "from tensorflow.keras.layers import Activation,InputLayer, Conv2D, BatchNormalization, MaxPool2D, Dropout, Flatten, Dense\n",
    "from tensorflow.keras.callbacks import EarlyStopping, ModelCheckpoint, ReduceLROnPlateau\n",
    "from tensorflow.keras.layers import Conv2D, MaxPooling2D\n",
    "\n",
    "%matplotlib inline "
   ]
  },
  {
   "cell_type": "code",
   "execution_count": null,
   "metadata": {
    "_cell_guid": "79c7e3d0-c299-4dcb-8224-4455121ee9b0",
    "_uuid": "d629ff2d2480ee46fbb7e2d37f6b5fab8052498a",
    "execution": {
     "iopub.execute_input": "2020-09-29T17:11:25.960434Z",
     "iopub.status.busy": "2020-09-29T17:11:25.959592Z",
     "iopub.status.idle": "2020-09-29T17:11:25.965117Z",
     "shell.execute_reply": "2020-09-29T17:11:25.965741Z"
    },
    "papermill": {
     "duration": 0.089552,
     "end_time": "2020-09-29T17:11:25.965908",
     "exception": false,
     "start_time": "2020-09-29T17:11:25.876356",
     "status": "completed"
    },
    "tags": []
   },
   "outputs": [],
   "source": [
    "print(\"Tensorflow version: \",tf.__version__)"
   ]
  },
  {
   "cell_type": "code",
   "execution_count": 1,
   "metadata": {
    "execution": {
     "iopub.execute_input": "2020-09-29T17:11:26.299907Z",
     "iopub.status.busy": "2020-09-29T17:11:26.298934Z",
     "iopub.status.idle": "2020-09-29T17:11:26.301406Z",
     "shell.execute_reply": "2020-09-29T17:11:26.302009Z"
    },
    "papermill": {
     "duration": 0.109217,
     "end_time": "2020-09-29T17:11:26.302167",
     "exception": false,
     "start_time": "2020-09-29T17:11:26.192950",
     "status": "completed"
    },
    "tags": []
   },
   "outputs": [
    {
     "ename": "NameError",
     "evalue": "name 'os' is not defined",
     "output_type": "error",
     "traceback": [
      "\u001b[1;31m---------------------------------------------------------------------------\u001b[0m",
      "\u001b[1;31mNameError\u001b[0m                                 Traceback (most recent call last)",
      "\u001b[1;32m~\\AppData\\Local\\Temp\\ipykernel_18028\\637808719.py\u001b[0m in \u001b[0;36m<module>\u001b[1;34m\u001b[0m\n\u001b[0;32m      1\u001b[0m \u001b[1;31m# Training Data\u001b[0m\u001b[1;33m\u001b[0m\u001b[1;33m\u001b[0m\u001b[1;33m\u001b[0m\u001b[0m\n\u001b[0;32m      2\u001b[0m \u001b[1;33m\u001b[0m\u001b[0m\n\u001b[1;32m----> 3\u001b[1;33m \u001b[0mLow_quality_Apple\u001b[0m \u001b[1;33m=\u001b[0m \u001b[0mos\u001b[0m\u001b[1;33m.\u001b[0m\u001b[0mlistdir\u001b[0m\u001b[1;33m(\u001b[0m\u001b[1;34m'FruitsDB/Train/Low_quality_Apple/'\u001b[0m\u001b[1;33m)\u001b[0m\u001b[1;33m\u001b[0m\u001b[1;33m\u001b[0m\u001b[0m\n\u001b[0m\u001b[0;32m      4\u001b[0m \u001b[0mLow_quality_mango\u001b[0m    \u001b[1;33m=\u001b[0m \u001b[0mos\u001b[0m\u001b[1;33m.\u001b[0m\u001b[0mlistdir\u001b[0m\u001b[1;33m(\u001b[0m\u001b[1;34m'FruitsDB/Train/Low_quality_mango/'\u001b[0m\u001b[1;33m)\u001b[0m\u001b[1;33m\u001b[0m\u001b[1;33m\u001b[0m\u001b[0m\n\u001b[0;32m      5\u001b[0m \u001b[0mQuality_Apples\u001b[0m     \u001b[1;33m=\u001b[0m \u001b[0mos\u001b[0m\u001b[1;33m.\u001b[0m\u001b[0mlistdir\u001b[0m\u001b[1;33m(\u001b[0m\u001b[1;34m'FruitsDB/Train/Quality_Apples/'\u001b[0m\u001b[1;33m)\u001b[0m\u001b[1;33m\u001b[0m\u001b[1;33m\u001b[0m\u001b[0m\n",
      "\u001b[1;31mNameError\u001b[0m: name 'os' is not defined"
     ]
    }
   ],
   "source": [
    "# Training Data\n",
    "\n",
    "Low_quality_Apple = os.listdir('FruitsDB/Train/Low_quality_Apple/')\n",
    "Low_quality_mango    = os.listdir('FruitsDB/Train/Low_quality_mango/')\n",
    "Quality_Apples     = os.listdir('FruitsDB/Train/Quality_Apples/')\n",
    "Quality_Mangoes      = os.listdir('FruitsDB/Train/Quality_Mangoes/')"
   ]
  },
  {
   "cell_type": "code",
   "execution_count": 5,
   "metadata": {
    "execution": {
     "iopub.execute_input": "2020-09-29T17:11:26.464215Z",
     "iopub.status.busy": "2020-09-29T17:11:26.463241Z",
     "iopub.status.idle": "2020-09-29T17:11:26.466428Z",
     "shell.execute_reply": "2020-09-29T17:11:26.465925Z"
    },
    "papermill": {
     "duration": 0.084621,
     "end_time": "2020-09-29T17:11:26.466535",
     "exception": false,
     "start_time": "2020-09-29T17:11:26.381914",
     "status": "completed"
    },
    "tags": []
   },
   "outputs": [],
   "source": [
    "\n",
    "train_dir = 'FruitsDB/Train'\n",
    "test_dir = 'FruitsDB/Test'\n",
    "\n",
    "image_size = 224"
   ]
  },
  {
   "cell_type": "code",
   "execution_count": 6,
   "metadata": {
    "execution": {
     "iopub.execute_input": "2020-09-29T17:11:26.626716Z",
     "iopub.status.busy": "2020-09-29T17:11:26.626063Z",
     "iopub.status.idle": "2020-09-29T17:11:26.745847Z",
     "shell.execute_reply": "2020-09-29T17:11:26.745284Z"
    },
    "papermill": {
     "duration": 0.204086,
     "end_time": "2020-09-29T17:11:26.745959",
     "exception": false,
     "start_time": "2020-09-29T17:11:26.541873",
     "status": "completed"
    },
    "tags": []
   },
   "outputs": [
    {
     "name": "stdout",
     "output_type": "stream",
     "text": [
      "Found 188 images belonging to 4 classes.\n"
     ]
    }
   ],
   "source": [
    "batch_size = 32\n",
    "\n",
    "train_datagen = ImageDataGenerator(rescale = 1./255,\n",
    "                            rotation_range=45,\n",
    "                            zoom_range=0.40,\n",
    "                            width_shift_range=0.2,\n",
    "                            height_shift_range=0.2,\n",
    "                            shear_range=0.15,\n",
    "                            horizontal_flip=True,\n",
    "                            vertical_flip= True,\n",
    "                            fill_mode=\"nearest\")\n",
    "\n",
    "train_data = train_datagen.flow_from_directory(train_dir,\n",
    "                                              target_size=(150,150),\n",
    "                                              batch_size=32,\n",
    "                                              class_mode=\"categorical\")\n"
   ]
  },
  {
   "cell_type": "code",
   "execution_count": 7,
   "metadata": {
    "execution": {
     "iopub.execute_input": "2020-09-29T17:11:26.924273Z",
     "iopub.status.busy": "2020-09-29T17:11:26.922329Z",
     "iopub.status.idle": "2020-09-29T17:11:27.037434Z",
     "shell.execute_reply": "2020-09-29T17:11:27.037904Z"
    },
    "papermill": {
     "duration": 0.204345,
     "end_time": "2020-09-29T17:11:27.038044",
     "exception": false,
     "start_time": "2020-09-29T17:11:26.833699",
     "status": "completed"
    },
    "tags": []
   },
   "outputs": [
    {
     "name": "stdout",
     "output_type": "stream",
     "text": [
      "Found 60 images belonging to 4 classes.\n"
     ]
    }
   ],
   "source": [
    "test_datagen = ImageDataGenerator(rescale = 1./255)\n",
    "\n",
    "test_data = test_datagen.flow_from_directory(test_dir,\n",
    "                                            target_size=(150,150),\n",
    "                                            batch_size=32,\n",
    "                                            class_mode=\"categorical\")"
   ]
  },
  {
   "cell_type": "code",
   "execution_count": 8,
   "metadata": {
    "execution": {
     "iopub.execute_input": "2020-09-29T17:11:27.211649Z",
     "iopub.status.busy": "2020-09-29T17:11:27.210629Z",
     "iopub.status.idle": "2020-09-29T17:11:28.303223Z",
     "shell.execute_reply": "2020-09-29T17:11:28.303723Z"
    },
    "papermill": {
     "duration": 1.189673,
     "end_time": "2020-09-29T17:11:28.303898",
     "exception": false,
     "start_time": "2020-09-29T17:11:27.114225",
     "status": "completed"
    },
    "tags": []
   },
   "outputs": [
    {
     "name": "stdout",
     "output_type": "stream",
     "text": [
      "WARNING:tensorflow:From c:\\users\\mrida\\anaconda3\\envs\\tf\\lib\\site-packages\\tensorflow_core\\python\\ops\\resource_variable_ops.py:1630: calling BaseResourceVariable.__init__ (from tensorflow.python.ops.resource_variable_ops) with constraint is deprecated and will be removed in a future version.\n",
      "Instructions for updating:\n",
      "If using Keras pass *_constraint arguments to layers.\n",
      "Model: \"FruitNet\"\n",
      "_________________________________________________________________\n",
      "Layer (type)                 Output Shape              Param #   \n",
      "=================================================================\n",
      "conv2d (Conv2D)              (None, 150, 150, 32)      896       \n",
      "_________________________________________________________________\n",
      "activation (Activation)      (None, 150, 150, 32)      0         \n",
      "_________________________________________________________________\n",
      "max_pooling2d (MaxPooling2D) (None, 50, 50, 32)        0         \n",
      "_________________________________________________________________\n",
      "dropout (Dropout)            (None, 50, 50, 32)        0         \n",
      "_________________________________________________________________\n",
      "conv2d_1 (Conv2D)            (None, 50, 50, 64)        32832     \n",
      "_________________________________________________________________\n",
      "activation_1 (Activation)    (None, 50, 50, 64)        0         \n",
      "_________________________________________________________________\n",
      "conv2d_2 (Conv2D)            (None, 50, 50, 64)        65600     \n",
      "_________________________________________________________________\n",
      "activation_2 (Activation)    (None, 50, 50, 64)        0         \n",
      "_________________________________________________________________\n",
      "max_pooling2d_1 (MaxPooling2 (None, 25, 25, 64)        0         \n",
      "_________________________________________________________________\n",
      "dropout_1 (Dropout)          (None, 25, 25, 64)        0         \n",
      "_________________________________________________________________\n",
      "conv2d_3 (Conv2D)            (None, 25, 25, 128)       131200    \n",
      "_________________________________________________________________\n",
      "activation_3 (Activation)    (None, 25, 25, 128)       0         \n",
      "_________________________________________________________________\n",
      "conv2d_4 (Conv2D)            (None, 25, 25, 128)       262272    \n",
      "_________________________________________________________________\n",
      "activation_4 (Activation)    (None, 25, 25, 128)       0         \n",
      "_________________________________________________________________\n",
      "max_pooling2d_2 (MaxPooling2 (None, 12, 12, 128)       0         \n",
      "_________________________________________________________________\n",
      "dropout_2 (Dropout)          (None, 12, 12, 128)       0         \n",
      "_________________________________________________________________\n",
      "flatten (Flatten)            (None, 18432)             0         \n",
      "_________________________________________________________________\n",
      "dense (Dense)                (None, 1024)              18875392  \n",
      "_________________________________________________________________\n",
      "batch_normalization (BatchNo (None, 1024)              4096      \n",
      "_________________________________________________________________\n",
      "dropout_3 (Dropout)          (None, 1024)              0         \n",
      "_________________________________________________________________\n",
      "dense_1 (Dense)              (None, 4)                 4100      \n",
      "_________________________________________________________________\n",
      "activation_5 (Activation)    (None, 4)                 0         \n",
      "=================================================================\n",
      "Total params: 19,376,388\n",
      "Trainable params: 19,374,340\n",
      "Non-trainable params: 2,048\n",
      "_________________________________________________________________\n"
     ]
    }
   ],
   "source": [
    "\n",
    "#=================================================================\n",
    "chanDim = 1\n",
    "model = Sequential(name=\"FruitNet\")\n",
    "model.add(Conv2D(32, (3, 3), padding=\"same\",input_shape=(150,150,3)))\n",
    "model.add(Activation(\"relu\"))\n",
    "\n",
    "model.add(MaxPooling2D(pool_size=(3, 3)))\n",
    "model.add(Dropout(0.25))\n",
    "\n",
    "model.add(Conv2D(64, (4, 4), padding=\"same\"))\n",
    "model.add(Activation(\"relu\"))\n",
    "\n",
    "model.add(Conv2D(64, (4, 4), padding=\"same\"))\n",
    "model.add(Activation(\"relu\"))\n",
    "model.add(MaxPooling2D(pool_size=(2, 2)))\n",
    "model.add(Dropout(0.25))\n",
    "\n",
    "model.add(Conv2D(128, (4, 4), padding=\"same\"))\n",
    "model.add(Activation(\"relu\"))\n",
    "\n",
    "model.add(Conv2D(128, (4, 4), padding=\"same\"))\n",
    "model.add(Activation(\"relu\"))\n",
    "model.add(MaxPooling2D(pool_size=(2, 2)))\n",
    "model.add(Dropout(0.25))\n",
    "\n",
    "model.add(Flatten())\n",
    "model.add(Dense(1024))\n",
    "model.add(BatchNormalization())\n",
    "model.add(Dropout(0.5))\n",
    "model.add(Dense(4))\n",
    "model.add(Activation(\"softmax\"))\n",
    "\n",
    "\n",
    "model.compile(optimizer=\"adam\",loss=\"categorical_crossentropy\",metrics=[\"accuracy\"])\n",
    "reduction_lr = ReduceLROnPlateau(monitor = \"val_accuracy\",patience = 2 ,verbose = 1, factor = 0.2, min_lr = 0.00001)\n",
    "model.summary()\n",
    "#plot_model(model,show_shapes=True)\n"
   ]
  },
  {
   "cell_type": "code",
   "execution_count": 9,
   "metadata": {
    "execution": {
     "iopub.execute_input": "2020-09-29T17:11:28.500252Z",
     "iopub.status.busy": "2020-09-29T17:11:28.499356Z",
     "iopub.status.idle": "2020-09-29T17:11:28.502531Z",
     "shell.execute_reply": "2020-09-29T17:11:28.501987Z"
    },
    "papermill": {
     "duration": 0.119525,
     "end_time": "2020-09-29T17:11:28.502632",
     "exception": false,
     "start_time": "2020-09-29T17:11:28.383107",
     "status": "completed"
    },
    "tags": []
   },
   "outputs": [],
   "source": [
    "callback_list = [reduction_lr]"
   ]
  },
  {
   "cell_type": "code",
   "execution_count": 10,
   "metadata": {
    "execution": {
     "iopub.execute_input": "2020-09-29T17:11:28.721691Z",
     "iopub.status.busy": "2020-09-29T17:11:28.720379Z",
     "iopub.status.idle": "2020-09-29T17:50:38.344386Z",
     "shell.execute_reply": "2020-09-29T17:50:38.343457Z"
    },
    "papermill": {
     "duration": 2349.761742,
     "end_time": "2020-09-29T17:50:38.344572",
     "exception": false,
     "start_time": "2020-09-29T17:11:28.582830",
     "status": "completed"
    },
    "tags": []
   },
   "outputs": [
    {
     "name": "stdout",
     "output_type": "stream",
     "text": [
      "Epoch 1/20\n",
      "29/30 [============================>.] - ETA: 1s - loss: 1.1283 - acc: 0.7599Epoch 1/20\n",
      "30/30 [==============================] - 9s 297ms/step - loss: 11.3103 - acc: 0.4333\n",
      "WARNING:tensorflow:Reduce LR on plateau conditioned on metric `val_accuracy` which is not available. Available metrics are: loss,acc,val_loss,val_acc,lr\n",
      "30/30 [==============================] - 40s 1s/step - loss: 1.1135 - acc: 0.7596 - val_loss: 11.3103 - val_acc: 0.4333\n",
      "Epoch 2/20\n",
      "29/30 [============================>.] - ETA: 1s - loss: 0.5918 - acc: 0.8106Epoch 1/20\n",
      "30/30 [==============================] - 8s 282ms/step - loss: 4.8739 - acc: 0.4000\n",
      "WARNING:tensorflow:Reduce LR on plateau conditioned on metric `val_accuracy` which is not available. Available metrics are: loss,acc,val_loss,val_acc,lr\n",
      "30/30 [==============================] - 39s 1s/step - loss: 0.5889 - acc: 0.8138 - val_loss: 4.8739 - val_acc: 0.4000\n",
      "Epoch 3/20\n",
      "29/30 [============================>.] - ETA: 1s - loss: 0.5812 - acc: 0.8480Epoch 1/20\n",
      "30/30 [==============================] - 8s 276ms/step - loss: 3.0678 - acc: 0.1833\n",
      "WARNING:tensorflow:Reduce LR on plateau conditioned on metric `val_accuracy` which is not available. Available metrics are: loss,acc,val_loss,val_acc,lr\n",
      "30/30 [==============================] - 42s 1s/step - loss: 0.5738 - acc: 0.8511 - val_loss: 3.0678 - val_acc: 0.1833\n",
      "Epoch 4/20\n",
      "29/30 [============================>.] - ETA: 1s - loss: 0.4076 - acc: 0.8778Epoch 1/20\n",
      "30/30 [==============================] - 9s 294ms/step - loss: 3.4043 - acc: 0.4667\n",
      "WARNING:tensorflow:Reduce LR on plateau conditioned on metric `val_accuracy` which is not available. Available metrics are: loss,acc,val_loss,val_acc,lr\n",
      "30/30 [==============================] - 40s 1s/step - loss: 0.4154 - acc: 0.8798 - val_loss: 3.4043 - val_acc: 0.4667\n",
      "Epoch 5/20\n",
      "29/30 [============================>.] - ETA: 1s - loss: 0.4711 - acc: 0.8744Epoch 1/20\n",
      "30/30 [==============================] - 8s 280ms/step - loss: 4.3183 - acc: 0.2000\n",
      "WARNING:tensorflow:Reduce LR on plateau conditioned on metric `val_accuracy` which is not available. Available metrics are: loss,acc,val_loss,val_acc,lr\n",
      "30/30 [==============================] - 42s 1s/step - loss: 0.4706 - acc: 0.8766 - val_loss: 4.3183 - val_acc: 0.2000\n",
      "Epoch 6/20\n",
      "29/30 [============================>.] - ETA: 1s - loss: 0.2991 - acc: 0.9101Epoch 1/20\n",
      "30/30 [==============================] - 9s 289ms/step - loss: 0.4114 - acc: 0.8833\n",
      "WARNING:tensorflow:Reduce LR on plateau conditioned on metric `val_accuracy` which is not available. Available metrics are: loss,acc,val_loss,val_acc,lr\n",
      "30/30 [==============================] - 41s 1s/step - loss: 0.3016 - acc: 0.9106 - val_loss: 0.4114 - val_acc: 0.8833\n",
      "Epoch 7/20\n",
      "29/30 [============================>.] - ETA: 1s - loss: 0.2870 - acc: 0.9240Epoch 1/20\n",
      "30/30 [==============================] - 9s 286ms/step - loss: 1.3070 - acc: 0.6333\n",
      "WARNING:tensorflow:Reduce LR on plateau conditioned on metric `val_accuracy` which is not available. Available metrics are: loss,acc,val_loss,val_acc,lr\n",
      "30/30 [==============================] - 40s 1s/step - loss: 0.2900 - acc: 0.9245 - val_loss: 1.3070 - val_acc: 0.6333\n",
      "Epoch 8/20\n",
      "29/30 [============================>.] - ETA: 1s - loss: 0.2579 - acc: 0.9240Epoch 1/20\n",
      "30/30 [==============================] - 10s 321ms/step - loss: 0.2428 - acc: 0.9333\n",
      "WARNING:tensorflow:Reduce LR on plateau conditioned on metric `val_accuracy` which is not available. Available metrics are: loss,acc,val_loss,val_acc,lr\n",
      "30/30 [==============================] - 41s 1s/step - loss: 0.2563 - acc: 0.9234 - val_loss: 0.2428 - val_acc: 0.9333\n",
      "Epoch 9/20\n",
      "29/30 [============================>.] - ETA: 1s - loss: 0.3102 - acc: 0.9218Epoch 1/20\n",
      "30/30 [==============================] - 10s 322ms/step - loss: 0.5535 - acc: 0.8500\n",
      "WARNING:tensorflow:Reduce LR on plateau conditioned on metric `val_accuracy` which is not available. Available metrics are: loss,acc,val_loss,val_acc,lr\n",
      "30/30 [==============================] - 43s 1s/step - loss: 0.3073 - acc: 0.9223 - val_loss: 0.5535 - val_acc: 0.8500\n",
      "Epoch 10/20\n",
      "29/30 [============================>.] - ETA: 1s - loss: 0.2737 - acc: 0.9306Epoch 1/20\n",
      "30/30 [==============================] - 9s 308ms/step - loss: 0.4944 - acc: 0.8500\n",
      "WARNING:tensorflow:Reduce LR on plateau conditioned on metric `val_accuracy` which is not available. Available metrics are: loss,acc,val_loss,val_acc,lr\n",
      "30/30 [==============================] - 42s 1s/step - loss: 0.2709 - acc: 0.9309 - val_loss: 0.4944 - val_acc: 0.8500\n",
      "Epoch 11/20\n",
      "29/30 [============================>.] - ETA: 1s - loss: 0.2789 - acc: 0.9284Epoch 1/20\n",
      "30/30 [==============================] - 9s 312ms/step - loss: 0.5782 - acc: 0.8000\n",
      "WARNING:tensorflow:Reduce LR on plateau conditioned on metric `val_accuracy` which is not available. Available metrics are: loss,acc,val_loss,val_acc,lr\n",
      "30/30 [==============================] - 42s 1s/step - loss: 0.2767 - acc: 0.9298 - val_loss: 0.5782 - val_acc: 0.8000\n",
      "Epoch 12/20\n",
      "29/30 [============================>.] - ETA: 1s - loss: 0.2659 - acc: 0.9331Epoch 1/20\n",
      "30/30 [==============================] - 10s 334ms/step - loss: 0.5570 - acc: 0.8667\n",
      "WARNING:tensorflow:Reduce LR on plateau conditioned on metric `val_accuracy` which is not available. Available metrics are: loss,acc,val_loss,val_acc,lr\n",
      "30/30 [==============================] - 43s 1s/step - loss: 0.2655 - acc: 0.9319 - val_loss: 0.5570 - val_acc: 0.8667\n",
      "Epoch 13/20\n",
      "29/30 [============================>.] - ETA: 1s - loss: 0.2193 - acc: 0.9405Epoch 1/20\n",
      "30/30 [==============================] - 11s 371ms/step - loss: 0.1996 - acc: 0.9167\n",
      "WARNING:tensorflow:Reduce LR on plateau conditioned on metric `val_accuracy` which is not available. Available metrics are: loss,acc,val_loss,val_acc,lr\n",
      "30/30 [==============================] - 46s 2s/step - loss: 0.2214 - acc: 0.9404 - val_loss: 0.1996 - val_acc: 0.9167\n",
      "Epoch 14/20\n",
      "29/30 [============================>.] - ETA: 1s - loss: 0.2532 - acc: 0.9394Epoch 1/20\n",
      "30/30 [==============================] - 11s 358ms/step - loss: 0.0994 - acc: 0.9667\n",
      "WARNING:tensorflow:Reduce LR on plateau conditioned on metric `val_accuracy` which is not available. Available metrics are: loss,acc,val_loss,val_acc,lr\n",
      "30/30 [==============================] - 46s 2s/step - loss: 0.2534 - acc: 0.9383 - val_loss: 0.0994 - val_acc: 0.9667\n",
      "Epoch 15/20\n",
      "29/30 [============================>.] - ETA: 1s - loss: 0.2061 - acc: 0.9361Epoch 1/20\n",
      "30/30 [==============================] - 10s 346ms/step - loss: 0.0736 - acc: 0.9667\n",
      "WARNING:tensorflow:Reduce LR on plateau conditioned on metric `val_accuracy` which is not available. Available metrics are: loss,acc,val_loss,val_acc,lr\n",
      "30/30 [==============================] - 50s 2s/step - loss: 0.2071 - acc: 0.9351 - val_loss: 0.0736 - val_acc: 0.9667\n",
      "Epoch 16/20\n",
      "29/30 [============================>.] - ETA: 1s - loss: 0.2584 - acc: 0.9328Epoch 1/20\n",
      "30/30 [==============================] - 10s 324ms/step - loss: 6.5985 - acc: 0.6500\n",
      "WARNING:tensorflow:Reduce LR on plateau conditioned on metric `val_accuracy` which is not available. Available metrics are: loss,acc,val_loss,val_acc,lr\n",
      "30/30 [==============================] - 48s 2s/step - loss: 0.2579 - acc: 0.9298 - val_loss: 6.5985 - val_acc: 0.6500\n",
      "Epoch 17/20\n",
      "29/30 [============================>.] - ETA: 1s - loss: 0.2598 - acc: 0.9123Epoch 1/20\n",
      "30/30 [==============================] - 9s 301ms/step - loss: 0.2123 - acc: 0.9000\n",
      "WARNING:tensorflow:Reduce LR on plateau conditioned on metric `val_accuracy` which is not available. Available metrics are: loss,acc,val_loss,val_acc,lr\n",
      "30/30 [==============================] - 41s 1s/step - loss: 0.2528 - acc: 0.9138 - val_loss: 0.2123 - val_acc: 0.9000\n",
      "Epoch 18/20\n",
      "29/30 [============================>.] - ETA: 1s - loss: 0.2214 - acc: 0.9372Epoch 1/20\n",
      "30/30 [==============================] - 9s 308ms/step - loss: 0.2896 - acc: 0.8833\n",
      "WARNING:tensorflow:Reduce LR on plateau conditioned on metric `val_accuracy` which is not available. Available metrics are: loss,acc,val_loss,val_acc,lr\n",
      "30/30 [==============================] - 44s 1s/step - loss: 0.2152 - acc: 0.9394 - val_loss: 0.2896 - val_acc: 0.8833\n"
     ]
    },
    {
     "name": "stdout",
     "output_type": "stream",
     "text": [
      "Epoch 19/20\n",
      "29/30 [============================>.] - ETA: 1s - loss: 0.1822 - acc: 0.9507Epoch 1/20\n",
      "30/30 [==============================] - 9s 307ms/step - loss: 0.0732 - acc: 0.9667\n",
      "WARNING:tensorflow:Reduce LR on plateau conditioned on metric `val_accuracy` which is not available. Available metrics are: loss,acc,val_loss,val_acc,lr\n",
      "30/30 [==============================] - 43s 1s/step - loss: 0.1833 - acc: 0.9500 - val_loss: 0.0732 - val_acc: 0.9667\n",
      "Epoch 20/20\n",
      "29/30 [============================>.] - ETA: 1s - loss: 0.1469 - acc: 0.9493Epoch 1/20\n",
      "30/30 [==============================] - 10s 338ms/step - loss: 0.2272 - acc: 0.9167\n",
      "WARNING:tensorflow:Reduce LR on plateau conditioned on metric `val_accuracy` which is not available. Available metrics are: loss,acc,val_loss,val_acc,lr\n",
      "30/30 [==============================] - 46s 2s/step - loss: 0.1464 - acc: 0.9489 - val_loss: 0.2272 - val_acc: 0.9167\n"
     ]
    }
   ],
   "source": [
    "#bot_callback = botCallback(access_token)\n",
    "#plotter = Plotter(access_token)\n",
    "#callback_list = [bot_callback,plotter] callbacks=callback_list\n",
    "#start = time.time()\n",
    "\n",
    "history = model.fit_generator(train_data,\n",
    "                    steps_per_epoch = 30,\n",
    "                    validation_data = test_data,\n",
    "                    validation_steps = 30,\n",
    "                    epochs=20,\n",
    "                    callbacks = callback_list)\n",
    "#end = time.time()\n",
    "#print(\"Total train time: \",(end-start)/60,\" mins\")"
   ]
  },
  {
   "cell_type": "code",
   "execution_count": 11,
   "metadata": {
    "execution": {
     "iopub.execute_input": "2020-09-29T17:50:38.975288Z",
     "iopub.status.busy": "2020-09-29T17:50:38.973867Z",
     "iopub.status.idle": "2020-09-29T17:50:39.416650Z",
     "shell.execute_reply": "2020-09-29T17:50:39.417236Z"
    },
    "papermill": {
     "duration": 0.76281,
     "end_time": "2020-09-29T17:50:39.417403",
     "exception": false,
     "start_time": "2020-09-29T17:50:38.654593",
     "status": "completed"
    },
    "tags": []
   },
   "outputs": [
    {
     "ename": "KeyError",
     "evalue": "'accuracy'",
     "output_type": "error",
     "traceback": [
      "\u001b[1;31m---------------------------------------------------------------------------\u001b[0m",
      "\u001b[1;31mKeyError\u001b[0m                                  Traceback (most recent call last)",
      "\u001b[1;32m<ipython-input-11-ba4a517da09c>\u001b[0m in \u001b[0;36m<module>\u001b[1;34m\u001b[0m\n\u001b[0;32m      7\u001b[0m     \u001b[0mplt\u001b[0m\u001b[1;33m.\u001b[0m\u001b[0mlegend\u001b[0m\u001b[1;33m(\u001b[0m\u001b[1;33m)\u001b[0m\u001b[1;33m\u001b[0m\u001b[1;33m\u001b[0m\u001b[0m\n\u001b[0;32m      8\u001b[0m     \u001b[0mplt\u001b[0m\u001b[1;33m.\u001b[0m\u001b[0mshow\u001b[0m\u001b[1;33m(\u001b[0m\u001b[1;33m)\u001b[0m\u001b[1;33m\u001b[0m\u001b[1;33m\u001b[0m\u001b[0m\n\u001b[1;32m----> 9\u001b[1;33m \u001b[0mplot_graph\u001b[0m\u001b[1;33m(\u001b[0m\u001b[0mhistory\u001b[0m\u001b[1;33m,\u001b[0m\u001b[1;34m\"accuracy\"\u001b[0m\u001b[1;33m)\u001b[0m\u001b[1;33m\u001b[0m\u001b[1;33m\u001b[0m\u001b[0m\n\u001b[0m\u001b[0;32m     10\u001b[0m \u001b[0mplot_graph\u001b[0m\u001b[1;33m(\u001b[0m\u001b[0mhistory\u001b[0m\u001b[1;33m,\u001b[0m\u001b[1;34m\"loss\"\u001b[0m\u001b[1;33m)\u001b[0m\u001b[1;33m\u001b[0m\u001b[1;33m\u001b[0m\u001b[0m\n",
      "\u001b[1;32m<ipython-input-11-ba4a517da09c>\u001b[0m in \u001b[0;36mplot_graph\u001b[1;34m(history, string)\u001b[0m\n\u001b[0;32m      1\u001b[0m \u001b[1;32mdef\u001b[0m \u001b[0mplot_graph\u001b[0m\u001b[1;33m(\u001b[0m\u001b[0mhistory\u001b[0m\u001b[1;33m,\u001b[0m\u001b[0mstring\u001b[0m\u001b[1;33m)\u001b[0m\u001b[1;33m:\u001b[0m\u001b[1;33m\u001b[0m\u001b[1;33m\u001b[0m\u001b[0m\n\u001b[0;32m      2\u001b[0m     \u001b[0mplt\u001b[0m\u001b[1;33m.\u001b[0m\u001b[0mfigure\u001b[0m\u001b[1;33m(\u001b[0m\u001b[0mfigsize\u001b[0m\u001b[1;33m=\u001b[0m\u001b[1;33m(\u001b[0m\u001b[1;36m12\u001b[0m\u001b[1;33m,\u001b[0m\u001b[1;36m8\u001b[0m\u001b[1;33m)\u001b[0m\u001b[1;33m)\u001b[0m\u001b[1;33m\u001b[0m\u001b[1;33m\u001b[0m\u001b[0m\n\u001b[1;32m----> 3\u001b[1;33m     \u001b[0mplt\u001b[0m\u001b[1;33m.\u001b[0m\u001b[0mplot\u001b[0m\u001b[1;33m(\u001b[0m\u001b[0mhistory\u001b[0m\u001b[1;33m.\u001b[0m\u001b[0mhistory\u001b[0m\u001b[1;33m[\u001b[0m\u001b[0mstring\u001b[0m\u001b[1;33m]\u001b[0m\u001b[1;33m,\u001b[0m\u001b[0mlabel\u001b[0m\u001b[1;33m=\u001b[0m\u001b[0mstr\u001b[0m\u001b[1;33m(\u001b[0m\u001b[0mstring\u001b[0m\u001b[1;33m)\u001b[0m\u001b[1;33m)\u001b[0m\u001b[1;33m\u001b[0m\u001b[1;33m\u001b[0m\u001b[0m\n\u001b[0m\u001b[0;32m      4\u001b[0m     \u001b[0mplt\u001b[0m\u001b[1;33m.\u001b[0m\u001b[0mplot\u001b[0m\u001b[1;33m(\u001b[0m\u001b[0mhistory\u001b[0m\u001b[1;33m.\u001b[0m\u001b[0mhistory\u001b[0m\u001b[1;33m[\u001b[0m\u001b[1;34m\"val_\"\u001b[0m\u001b[1;33m+\u001b[0m\u001b[0mstr\u001b[0m\u001b[1;33m(\u001b[0m\u001b[0mstring\u001b[0m\u001b[1;33m)\u001b[0m\u001b[1;33m]\u001b[0m\u001b[1;33m,\u001b[0m\u001b[0mlabel\u001b[0m\u001b[1;33m=\u001b[0m\u001b[1;34m\"val_\"\u001b[0m\u001b[1;33m+\u001b[0m\u001b[0mstr\u001b[0m\u001b[1;33m(\u001b[0m\u001b[0mstring\u001b[0m\u001b[1;33m)\u001b[0m\u001b[1;33m)\u001b[0m\u001b[1;33m\u001b[0m\u001b[1;33m\u001b[0m\u001b[0m\n\u001b[0;32m      5\u001b[0m     \u001b[0mplt\u001b[0m\u001b[1;33m.\u001b[0m\u001b[0mxlabel\u001b[0m\u001b[1;33m(\u001b[0m\u001b[1;34m\"Epochs\"\u001b[0m\u001b[1;33m)\u001b[0m\u001b[1;33m\u001b[0m\u001b[1;33m\u001b[0m\u001b[0m\n",
      "\u001b[1;31mKeyError\u001b[0m: 'accuracy'"
     ]
    },
    {
     "data": {
      "text/plain": [
       "<Figure size 864x576 with 0 Axes>"
      ]
     },
     "metadata": {},
     "output_type": "display_data"
    }
   ],
   "source": [
    "def plot_graph(history,string):\n",
    "    plt.figure(figsize=(12,8))\n",
    "    plt.plot(history.history[string],label=str(string))\n",
    "    plt.plot(history.history[\"val_\"+str(string)],label=\"val_\"+str(string))\n",
    "    plt.xlabel(\"Epochs\")\n",
    "    plt.ylabel(str(string))\n",
    "    plt.legend()\n",
    "    plt.show()\n",
    "plot_graph(history,\"accuracy\")\n",
    "plot_graph(history,\"loss\")"
   ]
  },
  {
   "cell_type": "code",
   "execution_count": 12,
   "metadata": {
    "execution": {
     "iopub.execute_input": "2020-09-29T17:50:40.091321Z",
     "iopub.status.busy": "2020-09-29T17:50:40.090260Z",
     "iopub.status.idle": "2020-09-29T17:50:40.403052Z",
     "shell.execute_reply": "2020-09-29T17:50:40.402481Z"
    },
    "papermill": {
     "duration": 0.656959,
     "end_time": "2020-09-29T17:50:40.403228",
     "exception": false,
     "start_time": "2020-09-29T17:50:39.746269",
     "status": "completed"
    },
    "tags": []
   },
   "outputs": [],
   "source": [
    "model.save(\"FruitNet.h5\")"
   ]
  },
  {
   "cell_type": "code",
   "execution_count": null,
   "metadata": {
    "papermill": {
     "duration": 0.320658,
     "end_time": "2020-09-29T17:50:41.704291",
     "exception": false,
     "start_time": "2020-09-29T17:50:41.383633",
     "status": "completed"
    },
    "tags": []
   },
   "outputs": [],
   "source": []
  },
  {
   "cell_type": "code",
   "execution_count": null,
   "metadata": {
    "papermill": {
     "duration": 0.321807,
     "end_time": "2020-09-29T17:50:42.348843",
     "exception": false,
     "start_time": "2020-09-29T17:50:42.027036",
     "status": "completed"
    },
    "tags": []
   },
   "outputs": [],
   "source": []
  },
  {
   "cell_type": "code",
   "execution_count": null,
   "metadata": {
    "papermill": {
     "duration": 0.488903,
     "end_time": "2020-09-29T17:50:43.238464",
     "exception": false,
     "start_time": "2020-09-29T17:50:42.749561",
     "status": "completed"
    },
    "tags": []
   },
   "outputs": [],
   "source": []
  }
 ],
 "metadata": {
  "kernelspec": {
   "display_name": "Python 3 (ipykernel)",
   "language": "python",
   "name": "python3"
  },
  "language_info": {
   "codemirror_mode": {
    "name": "ipython",
    "version": 3
   },
   "file_extension": ".py",
   "mimetype": "text/x-python",
   "name": "python",
   "nbconvert_exporter": "python",
   "pygments_lexer": "ipython3",
   "version": "3.7.12"
  },
  "papermill": {
   "duration": 2431.440235,
   "end_time": "2020-09-29T17:50:44.814809",
   "environment_variables": {},
   "exception": null,
   "input_path": "__notebook__.ipynb",
   "output_path": "__notebook__.ipynb",
   "parameters": {},
   "start_time": "2020-09-29T17:10:13.374574",
   "version": "2.1.0"
  }
 },
 "nbformat": 4,
 "nbformat_minor": 4
}
